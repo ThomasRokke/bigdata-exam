{
 "cells": [
  {
   "cell_type": "code",
   "execution_count": 9,
   "metadata": {
    "collapsed": true
   },
   "outputs": [],
   "source": [
    "from datetime import datetime\n",
    "#import it with writing pip install pandas-datareader in ur console for the lectures\n",
    "import pandas_datareader.data as wb\n",
    "\n",
    "stocklist = ['MSFT', 'AAPL']\n",
    "\n",
    "start = datetime(1990,1,1)\n",
    "end = datetime(2021,5,5)\n",
    "\n",
    "p = wb.DataReader(stocklist, 'yahoo',start,end)\n"
   ]
  },
  {
   "cell_type": "code",
   "execution_count": 10,
   "outputs": [
    {
     "data": {
      "text/plain": "Attributes   Adj Close                   Close                    High  \\\nSymbols           MSFT        AAPL        MSFT        AAPL        MSFT   \nDate                                                                     \n2020-12-09  211.313309  121.598289  211.800003  121.779999  215.229996   \n2020-12-10  210.036255  123.056114  210.520004  123.239998  213.080002   \n2020-12-11  212.769943  122.227356  213.259995  122.410004  213.320007   \n2020-12-14  213.707794  121.598289  214.199997  121.779999  216.210007   \n2020-12-15  213.637955  127.689186  214.130005  127.879997  215.419998   \n...                ...         ...         ...         ...         ...   \n2021-04-28  254.559998  133.580002  254.559998  133.580002  256.540009   \n2021-04-29  252.509995  133.479996  252.509995  133.479996  256.100006   \n2021-04-30  252.179993  131.460007  252.179993  131.460007  253.080002   \n2021-05-03  251.860001  132.539993  251.860001  132.539993  254.350006   \n2021-05-04  247.789993  127.849998  247.789993  127.849998  251.210007   \n\nAttributes                     Low                    Open              \\\nSymbols           AAPL        MSFT        AAPL        MSFT        AAPL   \nDate                                                                     \n2020-12-09  125.949997  211.210007  121.000000  215.160004  124.529999   \n2020-12-10  123.870003  210.360001  120.150002  211.770004  120.500000   \n2020-12-11  122.760002  209.110001  120.550003  210.050003  122.430000   \n2020-12-14  123.349998  212.880005  121.540001  213.100006  122.599998   \n2020-12-15  127.900002  212.240005  124.129997  215.169998  124.339996   \n...                ...         ...         ...         ...         ...   \n2021-04-28  135.020004  252.949997  133.080002  256.079987  134.309998   \n2021-04-29  137.070007  249.000000  132.449997  255.460007  136.470001   \n2021-04-30  133.559998  249.600006  131.070007  249.740005  131.779999   \n2021-05-03  134.070007  251.119995  131.830002  253.399994  132.039993   \n2021-05-04  131.490005  245.759995  126.699997  250.970001  131.190002   \n\nAttributes      Volume               \nSymbols           MSFT         AAPL  \nDate                                 \n2020-12-09  32440600.0  115089200.0  \n2020-12-10  26733300.0   81312200.0  \n2020-12-11  30979400.0   86939800.0  \n2020-12-14  28798400.0   79184500.0  \n2020-12-15  27000600.0  157243700.0  \n...                ...          ...  \n2021-04-28  46903100.0  107760100.0  \n2021-04-29  40589000.0  151101000.0  \n2021-04-30  30929200.0  109713200.0  \n2021-05-03  19626600.0   75135100.0  \n2021-05-04  32724400.0  137375500.0  \n\n[100 rows x 12 columns]",
      "text/html": "<div>\n<style scoped>\n    .dataframe tbody tr th:only-of-type {\n        vertical-align: middle;\n    }\n\n    .dataframe tbody tr th {\n        vertical-align: top;\n    }\n\n    .dataframe thead tr th {\n        text-align: left;\n    }\n\n    .dataframe thead tr:last-of-type th {\n        text-align: right;\n    }\n</style>\n<table border=\"1\" class=\"dataframe\">\n  <thead>\n    <tr>\n      <th>Attributes</th>\n      <th colspan=\"2\" halign=\"left\">Adj Close</th>\n      <th colspan=\"2\" halign=\"left\">Close</th>\n      <th colspan=\"2\" halign=\"left\">High</th>\n      <th colspan=\"2\" halign=\"left\">Low</th>\n      <th colspan=\"2\" halign=\"left\">Open</th>\n      <th colspan=\"2\" halign=\"left\">Volume</th>\n    </tr>\n    <tr>\n      <th>Symbols</th>\n      <th>MSFT</th>\n      <th>AAPL</th>\n      <th>MSFT</th>\n      <th>AAPL</th>\n      <th>MSFT</th>\n      <th>AAPL</th>\n      <th>MSFT</th>\n      <th>AAPL</th>\n      <th>MSFT</th>\n      <th>AAPL</th>\n      <th>MSFT</th>\n      <th>AAPL</th>\n    </tr>\n    <tr>\n      <th>Date</th>\n      <th></th>\n      <th></th>\n      <th></th>\n      <th></th>\n      <th></th>\n      <th></th>\n      <th></th>\n      <th></th>\n      <th></th>\n      <th></th>\n      <th></th>\n      <th></th>\n    </tr>\n  </thead>\n  <tbody>\n    <tr>\n      <th>2020-12-09</th>\n      <td>211.313309</td>\n      <td>121.598289</td>\n      <td>211.800003</td>\n      <td>121.779999</td>\n      <td>215.229996</td>\n      <td>125.949997</td>\n      <td>211.210007</td>\n      <td>121.000000</td>\n      <td>215.160004</td>\n      <td>124.529999</td>\n      <td>32440600.0</td>\n      <td>115089200.0</td>\n    </tr>\n    <tr>\n      <th>2020-12-10</th>\n      <td>210.036255</td>\n      <td>123.056114</td>\n      <td>210.520004</td>\n      <td>123.239998</td>\n      <td>213.080002</td>\n      <td>123.870003</td>\n      <td>210.360001</td>\n      <td>120.150002</td>\n      <td>211.770004</td>\n      <td>120.500000</td>\n      <td>26733300.0</td>\n      <td>81312200.0</td>\n    </tr>\n    <tr>\n      <th>2020-12-11</th>\n      <td>212.769943</td>\n      <td>122.227356</td>\n      <td>213.259995</td>\n      <td>122.410004</td>\n      <td>213.320007</td>\n      <td>122.760002</td>\n      <td>209.110001</td>\n      <td>120.550003</td>\n      <td>210.050003</td>\n      <td>122.430000</td>\n      <td>30979400.0</td>\n      <td>86939800.0</td>\n    </tr>\n    <tr>\n      <th>2020-12-14</th>\n      <td>213.707794</td>\n      <td>121.598289</td>\n      <td>214.199997</td>\n      <td>121.779999</td>\n      <td>216.210007</td>\n      <td>123.349998</td>\n      <td>212.880005</td>\n      <td>121.540001</td>\n      <td>213.100006</td>\n      <td>122.599998</td>\n      <td>28798400.0</td>\n      <td>79184500.0</td>\n    </tr>\n    <tr>\n      <th>2020-12-15</th>\n      <td>213.637955</td>\n      <td>127.689186</td>\n      <td>214.130005</td>\n      <td>127.879997</td>\n      <td>215.419998</td>\n      <td>127.900002</td>\n      <td>212.240005</td>\n      <td>124.129997</td>\n      <td>215.169998</td>\n      <td>124.339996</td>\n      <td>27000600.0</td>\n      <td>157243700.0</td>\n    </tr>\n    <tr>\n      <th>...</th>\n      <td>...</td>\n      <td>...</td>\n      <td>...</td>\n      <td>...</td>\n      <td>...</td>\n      <td>...</td>\n      <td>...</td>\n      <td>...</td>\n      <td>...</td>\n      <td>...</td>\n      <td>...</td>\n      <td>...</td>\n    </tr>\n    <tr>\n      <th>2021-04-28</th>\n      <td>254.559998</td>\n      <td>133.580002</td>\n      <td>254.559998</td>\n      <td>133.580002</td>\n      <td>256.540009</td>\n      <td>135.020004</td>\n      <td>252.949997</td>\n      <td>133.080002</td>\n      <td>256.079987</td>\n      <td>134.309998</td>\n      <td>46903100.0</td>\n      <td>107760100.0</td>\n    </tr>\n    <tr>\n      <th>2021-04-29</th>\n      <td>252.509995</td>\n      <td>133.479996</td>\n      <td>252.509995</td>\n      <td>133.479996</td>\n      <td>256.100006</td>\n      <td>137.070007</td>\n      <td>249.000000</td>\n      <td>132.449997</td>\n      <td>255.460007</td>\n      <td>136.470001</td>\n      <td>40589000.0</td>\n      <td>151101000.0</td>\n    </tr>\n    <tr>\n      <th>2021-04-30</th>\n      <td>252.179993</td>\n      <td>131.460007</td>\n      <td>252.179993</td>\n      <td>131.460007</td>\n      <td>253.080002</td>\n      <td>133.559998</td>\n      <td>249.600006</td>\n      <td>131.070007</td>\n      <td>249.740005</td>\n      <td>131.779999</td>\n      <td>30929200.0</td>\n      <td>109713200.0</td>\n    </tr>\n    <tr>\n      <th>2021-05-03</th>\n      <td>251.860001</td>\n      <td>132.539993</td>\n      <td>251.860001</td>\n      <td>132.539993</td>\n      <td>254.350006</td>\n      <td>134.070007</td>\n      <td>251.119995</td>\n      <td>131.830002</td>\n      <td>253.399994</td>\n      <td>132.039993</td>\n      <td>19626600.0</td>\n      <td>75135100.0</td>\n    </tr>\n    <tr>\n      <th>2021-05-04</th>\n      <td>247.789993</td>\n      <td>127.849998</td>\n      <td>247.789993</td>\n      <td>127.849998</td>\n      <td>251.210007</td>\n      <td>131.490005</td>\n      <td>245.759995</td>\n      <td>126.699997</td>\n      <td>250.970001</td>\n      <td>131.190002</td>\n      <td>32724400.0</td>\n      <td>137375500.0</td>\n    </tr>\n  </tbody>\n</table>\n<p>100 rows × 12 columns</p>\n</div>"
     },
     "execution_count": 10,
     "metadata": {},
     "output_type": "execute_result"
    }
   ],
   "source": [
    "p.tail(100)"
   ],
   "metadata": {
    "collapsed": false,
    "pycharm": {
     "name": "#%%\n"
    }
   }
  },
  {
   "cell_type": "code",
   "execution_count": 11,
   "outputs": [
    {
     "data": {
      "text/plain": "Symbols         MSFT      AAPL\nDate                          \n1990-01-02  0.616319  0.332589\n1990-01-03  0.619792  0.334821\n1990-01-04  0.638021  0.335938\n1990-01-05  0.622396  0.337054\n1990-01-08  0.631944  0.339286\n1990-01-09  0.630208  0.335938\n1990-01-10  0.612847  0.321429\n1990-01-11  0.600694  0.308036\n1990-01-12  0.598090  0.308036\n1990-01-15  0.598090  0.305804",
      "text/html": "<div>\n<style scoped>\n    .dataframe tbody tr th:only-of-type {\n        vertical-align: middle;\n    }\n\n    .dataframe tbody tr th {\n        vertical-align: top;\n    }\n\n    .dataframe thead th {\n        text-align: right;\n    }\n</style>\n<table border=\"1\" class=\"dataframe\">\n  <thead>\n    <tr style=\"text-align: right;\">\n      <th>Symbols</th>\n      <th>MSFT</th>\n      <th>AAPL</th>\n    </tr>\n    <tr>\n      <th>Date</th>\n      <th></th>\n      <th></th>\n    </tr>\n  </thead>\n  <tbody>\n    <tr>\n      <th>1990-01-02</th>\n      <td>0.616319</td>\n      <td>0.332589</td>\n    </tr>\n    <tr>\n      <th>1990-01-03</th>\n      <td>0.619792</td>\n      <td>0.334821</td>\n    </tr>\n    <tr>\n      <th>1990-01-04</th>\n      <td>0.638021</td>\n      <td>0.335938</td>\n    </tr>\n    <tr>\n      <th>1990-01-05</th>\n      <td>0.622396</td>\n      <td>0.337054</td>\n    </tr>\n    <tr>\n      <th>1990-01-08</th>\n      <td>0.631944</td>\n      <td>0.339286</td>\n    </tr>\n    <tr>\n      <th>1990-01-09</th>\n      <td>0.630208</td>\n      <td>0.335938</td>\n    </tr>\n    <tr>\n      <th>1990-01-10</th>\n      <td>0.612847</td>\n      <td>0.321429</td>\n    </tr>\n    <tr>\n      <th>1990-01-11</th>\n      <td>0.600694</td>\n      <td>0.308036</td>\n    </tr>\n    <tr>\n      <th>1990-01-12</th>\n      <td>0.598090</td>\n      <td>0.308036</td>\n    </tr>\n    <tr>\n      <th>1990-01-15</th>\n      <td>0.598090</td>\n      <td>0.305804</td>\n    </tr>\n  </tbody>\n</table>\n</div>"
     },
     "execution_count": 11,
     "metadata": {},
     "output_type": "execute_result"
    }
   ],
   "source": [
    "p['Close'].head(10)"
   ],
   "metadata": {
    "collapsed": false,
    "pycharm": {
     "name": "#%%\n"
    }
   }
  },
  {
   "cell_type": "code",
   "execution_count": 8,
   "outputs": [
    {
     "data": {
      "text/plain": "Date\n1990-01-02    0.616319\n1990-01-03    0.619792\n1990-01-04    0.638021\n1990-01-05    0.622396\n1990-01-08    0.631944\n1990-01-09    0.630208\n1990-01-10    0.612847\n1990-01-11    0.600694\n1990-01-12    0.598090\n1990-01-15    0.598090\nName: MSFT, dtype: float64"
     },
     "execution_count": 8,
     "metadata": {},
     "output_type": "execute_result"
    }
   ],
   "source": [
    "p['Close']['MSFT'].head(10)\n"
   ],
   "metadata": {
    "collapsed": false,
    "pycharm": {
     "name": "#%%\n"
    }
   }
  },
  {
   "cell_type": "code",
   "execution_count": 12,
   "outputs": [
    {
     "data": {
      "text/plain": "Attributes   Adj Close                   Close                    High  \\\nSymbols           MSFT        AAPL        MSFT        AAPL        MSFT   \nDate                                                                     \n2021-04-21  260.579987  133.500000  260.579987  133.500000  260.679993   \n2021-04-22  257.170013  131.940002  257.170013  131.940002  261.779999   \n2021-04-23  261.149994  134.320007  261.149994  134.320007  261.510010   \n2021-04-26  261.549988  134.720001  261.549988  134.720001  262.440002   \n2021-04-27  261.970001  134.389999  261.970001  134.389999  263.190002   \n2021-04-28  254.559998  133.580002  254.559998  133.580002  256.540009   \n2021-04-29  252.509995  133.479996  252.509995  133.479996  256.100006   \n2021-04-30  252.179993  131.460007  252.179993  131.460007  253.080002   \n2021-05-03  251.860001  132.539993  251.860001  132.539993  254.350006   \n2021-05-04  247.789993  127.849998  247.789993  127.849998  251.210007   \n\nAttributes                     Low                    Open              \\\nSymbols           AAPL        MSFT        AAPL        MSFT        AAPL   \nDate                                                                     \n2021-04-21  133.750000  257.250000  131.300003  258.940002  132.360001   \n2021-04-22  134.149994  255.639999  131.410004  260.209991  133.039993   \n2021-04-23  135.119995  257.269989  132.160004  257.880005  132.160004   \n2021-04-26  135.059998  260.170013  133.559998  261.660004  134.830002   \n2021-04-27  135.410004  260.119995  134.110001  261.579987  135.009995   \n2021-04-28  135.020004  252.949997  133.080002  256.079987  134.309998   \n2021-04-29  137.070007  249.000000  132.449997  255.460007  136.470001   \n2021-04-30  133.559998  249.600006  131.070007  249.740005  131.779999   \n2021-05-03  134.070007  251.119995  131.830002  253.399994  132.039993   \n2021-05-04  131.490005  245.759995  126.699997  250.970001  131.190002   \n\nAttributes      Volume               \nSymbols           MSFT         AAPL  \nDate                                 \n2021-04-21  24030400.0   68847100.0  \n2021-04-22  25606200.0   84566500.0  \n2021-04-23  21462600.0   78657500.0  \n2021-04-26  19763300.0   66905100.0  \n2021-04-27  31014200.0   66015800.0  \n2021-04-28  46903100.0  107760100.0  \n2021-04-29  40589000.0  151101000.0  \n2021-04-30  30929200.0  109713200.0  \n2021-05-03  19626600.0   75135100.0  \n2021-05-04  32724400.0  137375500.0  ",
      "text/html": "<div>\n<style scoped>\n    .dataframe tbody tr th:only-of-type {\n        vertical-align: middle;\n    }\n\n    .dataframe tbody tr th {\n        vertical-align: top;\n    }\n\n    .dataframe thead tr th {\n        text-align: left;\n    }\n\n    .dataframe thead tr:last-of-type th {\n        text-align: right;\n    }\n</style>\n<table border=\"1\" class=\"dataframe\">\n  <thead>\n    <tr>\n      <th>Attributes</th>\n      <th colspan=\"2\" halign=\"left\">Adj Close</th>\n      <th colspan=\"2\" halign=\"left\">Close</th>\n      <th colspan=\"2\" halign=\"left\">High</th>\n      <th colspan=\"2\" halign=\"left\">Low</th>\n      <th colspan=\"2\" halign=\"left\">Open</th>\n      <th colspan=\"2\" halign=\"left\">Volume</th>\n    </tr>\n    <tr>\n      <th>Symbols</th>\n      <th>MSFT</th>\n      <th>AAPL</th>\n      <th>MSFT</th>\n      <th>AAPL</th>\n      <th>MSFT</th>\n      <th>AAPL</th>\n      <th>MSFT</th>\n      <th>AAPL</th>\n      <th>MSFT</th>\n      <th>AAPL</th>\n      <th>MSFT</th>\n      <th>AAPL</th>\n    </tr>\n    <tr>\n      <th>Date</th>\n      <th></th>\n      <th></th>\n      <th></th>\n      <th></th>\n      <th></th>\n      <th></th>\n      <th></th>\n      <th></th>\n      <th></th>\n      <th></th>\n      <th></th>\n      <th></th>\n    </tr>\n  </thead>\n  <tbody>\n    <tr>\n      <th>2021-04-21</th>\n      <td>260.579987</td>\n      <td>133.500000</td>\n      <td>260.579987</td>\n      <td>133.500000</td>\n      <td>260.679993</td>\n      <td>133.750000</td>\n      <td>257.250000</td>\n      <td>131.300003</td>\n      <td>258.940002</td>\n      <td>132.360001</td>\n      <td>24030400.0</td>\n      <td>68847100.0</td>\n    </tr>\n    <tr>\n      <th>2021-04-22</th>\n      <td>257.170013</td>\n      <td>131.940002</td>\n      <td>257.170013</td>\n      <td>131.940002</td>\n      <td>261.779999</td>\n      <td>134.149994</td>\n      <td>255.639999</td>\n      <td>131.410004</td>\n      <td>260.209991</td>\n      <td>133.039993</td>\n      <td>25606200.0</td>\n      <td>84566500.0</td>\n    </tr>\n    <tr>\n      <th>2021-04-23</th>\n      <td>261.149994</td>\n      <td>134.320007</td>\n      <td>261.149994</td>\n      <td>134.320007</td>\n      <td>261.510010</td>\n      <td>135.119995</td>\n      <td>257.269989</td>\n      <td>132.160004</td>\n      <td>257.880005</td>\n      <td>132.160004</td>\n      <td>21462600.0</td>\n      <td>78657500.0</td>\n    </tr>\n    <tr>\n      <th>2021-04-26</th>\n      <td>261.549988</td>\n      <td>134.720001</td>\n      <td>261.549988</td>\n      <td>134.720001</td>\n      <td>262.440002</td>\n      <td>135.059998</td>\n      <td>260.170013</td>\n      <td>133.559998</td>\n      <td>261.660004</td>\n      <td>134.830002</td>\n      <td>19763300.0</td>\n      <td>66905100.0</td>\n    </tr>\n    <tr>\n      <th>2021-04-27</th>\n      <td>261.970001</td>\n      <td>134.389999</td>\n      <td>261.970001</td>\n      <td>134.389999</td>\n      <td>263.190002</td>\n      <td>135.410004</td>\n      <td>260.119995</td>\n      <td>134.110001</td>\n      <td>261.579987</td>\n      <td>135.009995</td>\n      <td>31014200.0</td>\n      <td>66015800.0</td>\n    </tr>\n    <tr>\n      <th>2021-04-28</th>\n      <td>254.559998</td>\n      <td>133.580002</td>\n      <td>254.559998</td>\n      <td>133.580002</td>\n      <td>256.540009</td>\n      <td>135.020004</td>\n      <td>252.949997</td>\n      <td>133.080002</td>\n      <td>256.079987</td>\n      <td>134.309998</td>\n      <td>46903100.0</td>\n      <td>107760100.0</td>\n    </tr>\n    <tr>\n      <th>2021-04-29</th>\n      <td>252.509995</td>\n      <td>133.479996</td>\n      <td>252.509995</td>\n      <td>133.479996</td>\n      <td>256.100006</td>\n      <td>137.070007</td>\n      <td>249.000000</td>\n      <td>132.449997</td>\n      <td>255.460007</td>\n      <td>136.470001</td>\n      <td>40589000.0</td>\n      <td>151101000.0</td>\n    </tr>\n    <tr>\n      <th>2021-04-30</th>\n      <td>252.179993</td>\n      <td>131.460007</td>\n      <td>252.179993</td>\n      <td>131.460007</td>\n      <td>253.080002</td>\n      <td>133.559998</td>\n      <td>249.600006</td>\n      <td>131.070007</td>\n      <td>249.740005</td>\n      <td>131.779999</td>\n      <td>30929200.0</td>\n      <td>109713200.0</td>\n    </tr>\n    <tr>\n      <th>2021-05-03</th>\n      <td>251.860001</td>\n      <td>132.539993</td>\n      <td>251.860001</td>\n      <td>132.539993</td>\n      <td>254.350006</td>\n      <td>134.070007</td>\n      <td>251.119995</td>\n      <td>131.830002</td>\n      <td>253.399994</td>\n      <td>132.039993</td>\n      <td>19626600.0</td>\n      <td>75135100.0</td>\n    </tr>\n    <tr>\n      <th>2021-05-04</th>\n      <td>247.789993</td>\n      <td>127.849998</td>\n      <td>247.789993</td>\n      <td>127.849998</td>\n      <td>251.210007</td>\n      <td>131.490005</td>\n      <td>245.759995</td>\n      <td>126.699997</td>\n      <td>250.970001</td>\n      <td>131.190002</td>\n      <td>32724400.0</td>\n      <td>137375500.0</td>\n    </tr>\n  </tbody>\n</table>\n</div>"
     },
     "execution_count": 12,
     "metadata": {},
     "output_type": "execute_result"
    }
   ],
   "source": [
    "p.tail(10)"
   ],
   "metadata": {
    "collapsed": false,
    "pycharm": {
     "name": "#%%\n"
    }
   }
  },
  {
   "cell_type": "code",
   "execution_count": null,
   "outputs": [],
   "source": [],
   "metadata": {
    "collapsed": false,
    "pycharm": {
     "name": "#%%\n"
    }
   }
  }
 ],
 "metadata": {
  "kernelspec": {
   "display_name": "Python 3",
   "language": "python",
   "name": "python3"
  },
  "language_info": {
   "codemirror_mode": {
    "name": "ipython",
    "version": 2
   },
   "file_extension": ".py",
   "mimetype": "text/x-python",
   "name": "python",
   "nbconvert_exporter": "python",
   "pygments_lexer": "ipython2",
   "version": "2.7.6"
  }
 },
 "nbformat": 4,
 "nbformat_minor": 0
}