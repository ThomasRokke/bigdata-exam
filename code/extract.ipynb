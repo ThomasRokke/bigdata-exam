{
 "cells": [
  {
   "cell_type": "code",
   "execution_count": 31,
   "metadata": {
    "collapsed": true
   },
   "outputs": [],
   "source": [
    "#import necessary packages\n",
    "from datetime import datetime\n",
    "#import it in console with: pip install pandas-datareader\n",
    "import pandas_datareader.data as wb\n",
    "import pandas as pd\n",
    "import matplotlib.pyplot as plt"
   ]
  },
  {
   "cell_type": "code",
   "execution_count": 62,
   "outputs": [],
   "source": [
    "# Input\n",
    "# ticker: list of chosen stock\n",
    "# start_date: start date of search in YYYY-M-D format\n",
    "# end_date: end date of search in YYYY-M-D format\n",
    "# Output\n",
    "# Pandas dataframe with fiance data\n",
    "def get_data_from_api(ticker, start_date, end_date):\n",
    "    dataframe = pd.DataFrame()\n",
    "    dataframe = wb.DataReader(ticker, 'yahoo', start_date, end_date)\n",
    "    return dataframe"
   ],
   "metadata": {
    "collapsed": false,
    "pycharm": {
     "name": "#%%\n"
    }
   }
  },
  {
   "cell_type": "code",
   "execution_count": 63,
   "outputs": [],
   "source": [
    "# Get stock data about Microsoft and Apple from 1990-01-01 to 2021-01-01\n",
    "tickerList = ['MSFT', 'AAPL']\n",
    "start = datetime(1990,1,1)\n",
    "end = datetime(2021,5,5)\n",
    "\n",
    "df = get_data_from_api(tickerList, start, end)"
   ],
   "metadata": {
    "collapsed": false,
    "pycharm": {
     "name": "#%%\n"
    }
   }
  },
  {
   "cell_type": "code",
   "execution_count": 64,
   "outputs": [
    {
     "name": "stdout",
     "output_type": "stream",
     "text": [
      "<class 'pandas.core.frame.DataFrame'>\n",
      "DatetimeIndex: 7897 entries, 1990-01-02 to 2021-05-05\n",
      "Data columns (total 12 columns):\n",
      " #   Column             Non-Null Count  Dtype  \n",
      "---  ------             --------------  -----  \n",
      " 0   (Adj Close, MSFT)  7897 non-null   float64\n",
      " 1   (Adj Close, AAPL)  7897 non-null   float64\n",
      " 2   (Close, MSFT)      7897 non-null   float64\n",
      " 3   (Close, AAPL)      7897 non-null   float64\n",
      " 4   (High, MSFT)       7897 non-null   float64\n",
      " 5   (High, AAPL)       7897 non-null   float64\n",
      " 6   (Low, MSFT)        7897 non-null   float64\n",
      " 7   (Low, AAPL)        7897 non-null   float64\n",
      " 8   (Open, MSFT)       7897 non-null   float64\n",
      " 9   (Open, AAPL)       7897 non-null   float64\n",
      " 10  (Volume, MSFT)     7897 non-null   float64\n",
      " 11  (Volume, AAPL)     7897 non-null   float64\n",
      "dtypes: float64(12)\n",
      "memory usage: 802.0 KB\n"
     ]
    }
   ],
   "source": [
    "#print information\n",
    "df.info()"
   ],
   "metadata": {
    "collapsed": false,
    "pycharm": {
     "name": "#%%\n"
    }
   }
  },
  {
   "cell_type": "code",
   "execution_count": 65,
   "outputs": [
    {
     "data": {
      "text/plain": "Date\n1990-01-02    0.616319\n1990-01-03    0.619792\n1990-01-04    0.638021\n1990-01-05    0.622396\n1990-01-08    0.631944\n1990-01-09    0.630208\n1990-01-10    0.612847\n1990-01-11    0.600694\n1990-01-12    0.598090\n1990-01-15    0.598090\nName: MSFT, dtype: float64"
     },
     "execution_count": 65,
     "metadata": {},
     "output_type": "execute_result"
    }
   ],
   "source": [
    "#Print first 10 closing price from Microsoft\n",
    "df['Close']['MSFT'].head(10)"
   ],
   "metadata": {
    "collapsed": false,
    "pycharm": {
     "name": "#%%\n"
    }
   }
  },
  {
   "cell_type": "code",
   "execution_count": 66,
   "outputs": [
    {
     "data": {
      "text/plain": "Date\n1990-01-02    0.332589\n1990-01-03    0.334821\n1990-01-04    0.335938\n1990-01-05    0.337054\n1990-01-08    0.339286\n1990-01-09    0.335938\n1990-01-10    0.321429\n1990-01-11    0.308036\n1990-01-12    0.308036\n1990-01-15    0.305804\nName: AAPL, dtype: float64"
     },
     "execution_count": 66,
     "metadata": {},
     "output_type": "execute_result"
    }
   ],
   "source": [
    "#Print first 10 closing price from Apple\n",
    "df['Close']['AAPL'].head(10)"
   ],
   "metadata": {
    "collapsed": false,
    "pycharm": {
     "name": "#%%\n"
    }
   }
  },
  {
   "cell_type": "code",
   "execution_count": 67,
   "outputs": [
    {
     "data": {
      "text/plain": "<AxesSubplot:xlabel='Date'>"
     },
     "execution_count": 67,
     "metadata": {},
     "output_type": "execute_result"
    },
    {
     "data": {
      "text/plain": "<Figure size 576x504 with 1 Axes>",
      "image/png": "[encoded data removed]"
     },
     "metadata": {},
     "output_type": "display_data"
    }
   ],
   "source": [
    "#Visualize the closing price\n",
    "# plot line\n",
    "df['Close'].plot()"
   ],
   "metadata": {
    "collapsed": false,
    "pycharm": {
     "name": "#%%\n"
    }
   }
  },
  {
   "cell_type": "code",
   "execution_count": 67,
   "outputs": [],
   "source": [],
   "metadata": {
    "collapsed": false,
    "pycharm": {
     "name": "#%%\n"
    }
   }
  },
  {
   "cell_type": "code",
   "execution_count": null,
   "outputs": [],
   "source": [],
   "metadata": {
    "collapsed": false,
    "pycharm": {
     "name": "#%%\n"
    }
   }
  }
 ],
 "metadata": {
  "kernelspec": {
   "display_name": "Python 3",
   "language": "python",
   "name": "python3"
  },
  "language_info": {
   "codemirror_mode": {
    "name": "ipython",
    "version": 2
   },
   "file_extension": ".py",
   "mimetype": "text/x-python",
   "name": "python",
   "nbconvert_exporter": "python",
   "pygments_lexer": "ipython2",
   "version": "2.7.6"
  }
 },
 "nbformat": 4,
 "nbformat_minor": 0
}