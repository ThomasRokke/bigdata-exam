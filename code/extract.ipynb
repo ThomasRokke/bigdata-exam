{
 "cells": [
  {
   "cell_type": "code",
   "execution_count": 46,
   "metadata": {
    "collapsed": true
   },
   "outputs": [],
   "source": [
    "#import necessary packages\n",
    "from datetime import datetime\n",
    "#import it in console with: pip install pandas-datareader\n",
    "import pandas_datareader.data as wb\n",
    "import pandas as pd\n",
    "import matplotlib.pyplot as plt"
   ]
  },
  {
   "cell_type": "code",
   "execution_count": 47,
   "outputs": [],
   "source": [
    "# Input\n",
    "# ticker: list of chosen stock\n",
    "# start_date: start date of search in YYYY-M-D format\n",
    "# end_date: end date of search in YYYY-M-D format\n",
    "# Output\n",
    "# Pandas dataframe with fiance data\n",
    "def get_data_from_api(ticker, start_date, end_date):\n",
    "    dataframe = pd.DataFrame()\n",
    "    dataframe = wb.DataReader(ticker, 'yahoo', start_date, end_date)\n",
    "    return dataframe"
   ],
   "metadata": {
    "collapsed": false,
    "pycharm": {
     "name": "#%%\n"
    }
   }
  },
  {
   "cell_type": "code",
   "execution_count": 48,
   "outputs": [],
   "source": [
    "# Get stock data about Microsoft and Apple from 1990-01-01 to 2021-01-01\n",
    "# Multiple tickers\n",
    "##tickerList = ['MSFT', 'AAPL']\n",
    "start = datetime(1990,1,1)\n",
    "end = datetime(2021,5,5)\n",
    "tickerList = 'MSFT'\n",
    "df = get_data_from_api(tickerList, start, end)"
   ],
   "metadata": {
    "collapsed": false,
    "pycharm": {
     "name": "#%%\n"
    }
   }
  },
  {
   "cell_type": "code",
   "execution_count": 49,
   "outputs": [
    {
     "name": "stdout",
     "output_type": "stream",
     "text": [
      "<class 'pandas.core.frame.DataFrame'>\n",
      "DatetimeIndex: 7897 entries, 1990-01-02 to 2021-05-05\n",
      "Data columns (total 6 columns):\n",
      " #   Column     Non-Null Count  Dtype  \n",
      "---  ------     --------------  -----  \n",
      " 0   High       7897 non-null   float64\n",
      " 1   Low        7897 non-null   float64\n",
      " 2   Open       7897 non-null   float64\n",
      " 3   Close      7897 non-null   float64\n",
      " 4   Volume     7897 non-null   float64\n",
      " 5   Adj Close  7897 non-null   float64\n",
      "dtypes: float64(6)\n",
      "memory usage: 431.9 KB\n"
     ]
    }
   ],
   "source": [
    "#print information\n",
    "df.info()"
   ],
   "metadata": {
    "collapsed": false,
    "pycharm": {
     "name": "#%%\n"
    }
   }
  },
  {
   "cell_type": "code",
   "execution_count": 50,
   "outputs": [
    {
     "data": {
      "text/plain": "                High       Low      Open     Close       Volume  Adj Close\nDate                                                                      \n1990-01-02  0.616319  0.598090  0.605903  0.616319   53035200.0   0.391455\n1990-01-03  0.626736  0.614583  0.621528  0.619792  113774400.0   0.393661\n1990-01-04  0.638889  0.616319  0.619792  0.638021  125740800.0   0.405239\n1990-01-05  0.638889  0.621528  0.635417  0.622396   69566400.0   0.395315\n1990-01-08  0.631944  0.614583  0.621528  0.631944   58982400.0   0.401380\n1990-01-09  0.638889  0.626736  0.631944  0.630208   70300800.0   0.400277\n1990-01-10  0.633681  0.611979  0.625000  0.612847  103766400.0   0.389250\n1990-01-11  0.621528  0.590278  0.616319  0.600694   95774400.0   0.381531\n1990-01-12  0.605903  0.583333  0.591146  0.598090  148910400.0   0.379877\n1990-01-15  0.604167  0.592014  0.595486  0.598090   62467200.0   0.379877",
      "text/html": "<div>\n<style scoped>\n    .dataframe tbody tr th:only-of-type {\n        vertical-align: middle;\n    }\n\n    .dataframe tbody tr th {\n        vertical-align: top;\n    }\n\n    .dataframe thead th {\n        text-align: right;\n    }\n</style>\n<table border=\"1\" class=\"dataframe\">\n  <thead>\n    <tr style=\"text-align: right;\">\n      <th></th>\n      <th>High</th>\n      <th>Low</th>\n      <th>Open</th>\n      <th>Close</th>\n      <th>Volume</th>\n      <th>Adj Close</th>\n    </tr>\n    <tr>\n      <th>Date</th>\n      <th></th>\n      <th></th>\n      <th></th>\n      <th></th>\n      <th></th>\n      <th></th>\n    </tr>\n  </thead>\n  <tbody>\n    <tr>\n      <th>1990-01-02</th>\n      <td>0.616319</td>\n      <td>0.598090</td>\n      <td>0.605903</td>\n      <td>0.616319</td>\n      <td>53035200.0</td>\n      <td>0.391455</td>\n    </tr>\n    <tr>\n      <th>1990-01-03</th>\n      <td>0.626736</td>\n      <td>0.614583</td>\n      <td>0.621528</td>\n      <td>0.619792</td>\n      <td>113774400.0</td>\n      <td>0.393661</td>\n    </tr>\n    <tr>\n      <th>1990-01-04</th>\n      <td>0.638889</td>\n      <td>0.616319</td>\n      <td>0.619792</td>\n      <td>0.638021</td>\n      <td>125740800.0</td>\n      <td>0.405239</td>\n    </tr>\n    <tr>\n      <th>1990-01-05</th>\n      <td>0.638889</td>\n      <td>0.621528</td>\n      <td>0.635417</td>\n      <td>0.622396</td>\n      <td>69566400.0</td>\n      <td>0.395315</td>\n    </tr>\n    <tr>\n      <th>1990-01-08</th>\n      <td>0.631944</td>\n      <td>0.614583</td>\n      <td>0.621528</td>\n      <td>0.631944</td>\n      <td>58982400.0</td>\n      <td>0.401380</td>\n    </tr>\n    <tr>\n      <th>1990-01-09</th>\n      <td>0.638889</td>\n      <td>0.626736</td>\n      <td>0.631944</td>\n      <td>0.630208</td>\n      <td>70300800.0</td>\n      <td>0.400277</td>\n    </tr>\n    <tr>\n      <th>1990-01-10</th>\n      <td>0.633681</td>\n      <td>0.611979</td>\n      <td>0.625000</td>\n      <td>0.612847</td>\n      <td>103766400.0</td>\n      <td>0.389250</td>\n    </tr>\n    <tr>\n      <th>1990-01-11</th>\n      <td>0.621528</td>\n      <td>0.590278</td>\n      <td>0.616319</td>\n      <td>0.600694</td>\n      <td>95774400.0</td>\n      <td>0.381531</td>\n    </tr>\n    <tr>\n      <th>1990-01-12</th>\n      <td>0.605903</td>\n      <td>0.583333</td>\n      <td>0.591146</td>\n      <td>0.598090</td>\n      <td>148910400.0</td>\n      <td>0.379877</td>\n    </tr>\n    <tr>\n      <th>1990-01-15</th>\n      <td>0.604167</td>\n      <td>0.592014</td>\n      <td>0.595486</td>\n      <td>0.598090</td>\n      <td>62467200.0</td>\n      <td>0.379877</td>\n    </tr>\n  </tbody>\n</table>\n</div>"
     },
     "execution_count": 50,
     "metadata": {},
     "output_type": "execute_result"
    }
   ],
   "source": [
    "df.head(10)"
   ],
   "metadata": {
    "collapsed": false,
    "pycharm": {
     "name": "#%%\n"
    }
   }
  },
  {
   "cell_type": "code",
   "execution_count": 51,
   "outputs": [
    {
     "data": {
      "text/plain": "Date\n1990-01-02    0.616319\n1990-01-03    0.619792\n1990-01-04    0.638021\n1990-01-05    0.622396\n1990-01-08    0.631944\n1990-01-09    0.630208\n1990-01-10    0.612847\n1990-01-11    0.600694\n1990-01-12    0.598090\n1990-01-15    0.598090\nName: Close, dtype: float64"
     },
     "execution_count": 51,
     "metadata": {},
     "output_type": "execute_result"
    }
   ],
   "source": [
    "#Print first 10 closing price from Microsoft\n",
    "df['Close'].head(10)"
   ],
   "metadata": {
    "collapsed": false,
    "pycharm": {
     "name": "#%%\n"
    }
   }
  },
  {
   "cell_type": "code",
   "execution_count": 52,
   "outputs": [
    {
     "data": {
      "text/plain": "Date\n1990-01-02    0.616319\n1990-01-03    0.619792\n1990-01-04    0.638021\n1990-01-05    0.622396\n1990-01-08    0.631944\n1990-01-09    0.630208\n1990-01-10    0.612847\n1990-01-11    0.600694\n1990-01-12    0.598090\n1990-01-15    0.598090\nName: Close, dtype: float64"
     },
     "execution_count": 52,
     "metadata": {},
     "output_type": "execute_result"
    }
   ],
   "source": [
    "#Print first 10 closing price from Apple\n",
    "df['Close'].head(10)"
   ],
   "metadata": {
    "collapsed": false,
    "pycharm": {
     "name": "#%%\n"
    }
   }
  },
  {
   "cell_type": "code",
   "execution_count": 53,
   "outputs": [
    {
     "data": {
      "text/plain": "<AxesSubplot:xlabel='Date'>"
     },
     "execution_count": 53,
     "metadata": {},
     "output_type": "execute_result"
    },
    {
     "data": {
      "text/plain": "<Figure size 432x288 with 1 Axes>",
      "image/png": "[encoded data removed]"
     },
     "metadata": {
      "needs_background": "light"
     },
     "output_type": "display_data"
    }
   ],
   "source": [
    "#Visualize the closing price\n",
    "# plot line\n",
    "df['Close'].plot()"
   ],
   "metadata": {
    "collapsed": false,
    "pycharm": {
     "name": "#%%\n"
    }
   }
  },
  {
   "cell_type": "code",
   "execution_count": 54,
   "outputs": [],
   "source": [
    "#Set index as datetime\n",
    "df.index = pd.to_datetime(df.index)"
   ],
   "metadata": {
    "collapsed": false,
    "pycharm": {
     "name": "#%%\n"
    }
   }
  },
  {
   "cell_type": "code",
   "execution_count": 55,
   "outputs": [
    {
     "data": {
      "text/plain": "               Close     Label\nDate                          \n1990-01-02 -0.854624 -0.854641\n1990-01-03 -0.854547 -0.854236\n1990-01-04 -0.854142 -0.854583\n1990-01-05 -0.854489 -0.854371\n1990-01-08 -0.854277 -0.854409\n1990-01-09 -0.854316 -0.854795\n1990-01-10 -0.854701 -0.855065\n1990-01-11 -0.854971 -0.855123\n1990-01-12 -0.855029 -0.855123\n1990-01-15 -0.855029 -0.854718",
      "text/html": "<div>\n<style scoped>\n    .dataframe tbody tr th:only-of-type {\n        vertical-align: middle;\n    }\n\n    .dataframe tbody tr th {\n        vertical-align: top;\n    }\n\n    .dataframe thead th {\n        text-align: right;\n    }\n</style>\n<table border=\"1\" class=\"dataframe\">\n  <thead>\n    <tr style=\"text-align: right;\">\n      <th></th>\n      <th>Close</th>\n      <th>Label</th>\n    </tr>\n    <tr>\n      <th>Date</th>\n      <th></th>\n      <th></th>\n    </tr>\n  </thead>\n  <tbody>\n    <tr>\n      <th>1990-01-02</th>\n      <td>-0.854624</td>\n      <td>-0.854641</td>\n    </tr>\n    <tr>\n      <th>1990-01-03</th>\n      <td>-0.854547</td>\n      <td>-0.854236</td>\n    </tr>\n    <tr>\n      <th>1990-01-04</th>\n      <td>-0.854142</td>\n      <td>-0.854583</td>\n    </tr>\n    <tr>\n      <th>1990-01-05</th>\n      <td>-0.854489</td>\n      <td>-0.854371</td>\n    </tr>\n    <tr>\n      <th>1990-01-08</th>\n      <td>-0.854277</td>\n      <td>-0.854409</td>\n    </tr>\n    <tr>\n      <th>1990-01-09</th>\n      <td>-0.854316</td>\n      <td>-0.854795</td>\n    </tr>\n    <tr>\n      <th>1990-01-10</th>\n      <td>-0.854701</td>\n      <td>-0.855065</td>\n    </tr>\n    <tr>\n      <th>1990-01-11</th>\n      <td>-0.854971</td>\n      <td>-0.855123</td>\n    </tr>\n    <tr>\n      <th>1990-01-12</th>\n      <td>-0.855029</td>\n      <td>-0.855123</td>\n    </tr>\n    <tr>\n      <th>1990-01-15</th>\n      <td>-0.855029</td>\n      <td>-0.854718</td>\n    </tr>\n  </tbody>\n</table>\n</div>"
     },
     "execution_count": 55,
     "metadata": {},
     "output_type": "execute_result"
    }
   ],
   "source": [
    "## Preprocess data\n",
    "df['Label'] = df['Close'].shift(-1)\n",
    "df = df.drop(['Open', 'High', 'Low', 'Volume', 'Adj Close'], axis=1)\n",
    "df_eth = df.dropna()\n",
    "\n",
    "#Standarizing\n",
    "df = (df-df.mean())/df.std()\n",
    "\n",
    "df.head(10)\n"
   ],
   "metadata": {
    "collapsed": false,
    "pycharm": {
     "name": "#%%\n"
    }
   }
  },
  {
   "cell_type": "code",
   "execution_count": 56,
   "outputs": [],
   "source": [
    "# Array splicing and splitting of data\n",
    "rd = df_eth.to_numpy()\n",
    "\n",
    "X, y = rd[:, :-1], rd[:, -1]\n",
    "import math\n",
    "# pct split\n",
    "limit = math.floor(len(X) * 0.8)\n",
    "\n",
    "X_train, X_test = X[:limit,:],X[limit:,:]\n",
    "\n",
    "y_train, y_test = y[:limit],y[limit:]\n"
   ],
   "metadata": {
    "collapsed": false,
    "pycharm": {
     "name": "#%%\n"
    }
   }
  },
  {
   "cell_type": "code",
   "execution_count": 57,
   "outputs": [
    {
     "name": "stdout",
     "output_type": "stream",
     "text": [
      "Actual:  [42.65999985 41.18999863 42.00999832]\n",
      "Forecasted:  [46.99912005 42.65227972 41.18334573]\n"
     ]
    }
   ],
   "source": [
    "from sklearn.linear_model import LinearRegression\n",
    "model = LinearRegression().fit(X_train, y_train)\n",
    "\n",
    "model.score(X_test, y_test)\n",
    "predictions = model.predict(X_test)\n",
    "print(\"Actual: \", y_test[:3])\n",
    "print(\"Forecasted: \", predictions[:3])"
   ],
   "metadata": {
    "collapsed": false,
    "pycharm": {
     "name": "#%%\n"
    }
   }
  },
  {
   "cell_type": "code",
   "execution_count": 58,
   "outputs": [
    {
     "name": "stdout",
     "output_type": "stream",
     "text": [
      "0.9983948358381166\n",
      "0.9973957394345818\n"
     ]
    }
   ],
   "source": [
    "## MLP Reg\n",
    "from sklearn.neural_network import MLPRegressor\n",
    "\n",
    "regr = MLPRegressor(random_state=1, max_iter=500).fit(X_train, y_train)\n",
    "print(regr.score(X_train, y_train))\n",
    "MLPpredictions = regr.predict(X_test)\n",
    "\n",
    "print(regr.score(X_test, y_test))"
   ],
   "metadata": {
    "collapsed": false,
    "pycharm": {
     "name": "#%%\n"
    }
   }
  },
  {
   "cell_type": "code",
   "execution_count": 59,
   "outputs": [
    {
     "data": {
      "text/plain": "<Figure size 432x288 with 1 Axes>",
      "image/png": "[encoded data removed]"
     },
     "metadata": {
      "needs_background": "light"
     },
     "output_type": "display_data"
    }
   ],
   "source": [
    "#Visualize to understand the model behaviour\n",
    "df_pred = pd.DataFrame(data=MLPpredictions, columns=[\"Predictions\"])\n",
    "df_pred[\"actual\"] = y_test.tolist()\n",
    "df_pred[\"linear\"] = predictions.tolist()\n",
    "df_pred[:200].plot()\n",
    "plt.show()"
   ],
   "metadata": {
    "collapsed": false,
    "pycharm": {
     "name": "#%%\n"
    }
   }
  },
  {
   "cell_type": "code",
   "execution_count": 59,
   "outputs": [],
   "source": [],
   "metadata": {
    "collapsed": false,
    "pycharm": {
     "name": "#%%\n"
    }
   }
  }
 ],
 "metadata": {
  "kernelspec": {
   "display_name": "Python 3",
   "language": "python",
   "name": "python3"
  },
  "language_info": {
   "codemirror_mode": {
    "name": "ipython",
    "version": 2
   },
   "file_extension": ".py",
   "mimetype": "text/x-python",
   "name": "python",
   "nbconvert_exporter": "python",
   "pygments_lexer": "ipython2",
   "version": "2.7.6"
  }
 },
 "nbformat": 4,
 "nbformat_minor": 0
}