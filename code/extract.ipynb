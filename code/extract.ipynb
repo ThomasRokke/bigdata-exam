{
 "cells": [
  {
   "cell_type": "code",
   "execution_count": 18,
   "metadata": {},
   "outputs": [],
   "source": [
    "#import necessary packages\n",
    "from datetime import datetime\n",
    "#import it in console with: pip install pandas-datareader\n",
    "import pandas_datareader.data as wb\n",
    "import pandas as pd\n",
    "import matplotlib\n",
    "import matplotlib.pyplot as plt\n",
    "import numpy as np\n",
    "from matplotlib import style"
   ]
  },
  {
   "cell_type": "code",
   "execution_count": 13,
   "metadata": {
    "pycharm": {
     "name": "#%%\n"
    }
   },
   "outputs": [],
   "source": [
    "# Input\n",
    "# ticker: list of chosen stock\n",
    "# start_date: start date of search in YYYY-M-D format\n",
    "# end_date: end date of search in YYYY-M-D format\n",
    "# Output Pandas dataframe with finance data from Yahoo\n",
    "def get_data_from_api(ticker, start_date, end_date):\n",
    "    dataframe = wb.DataReader(ticker, 'yahoo', start_date, end_date)\n",
    "    return dataframe"
   ]
  },
  {
   "cell_type": "code",
   "execution_count": 14,
   "metadata": {
    "pycharm": {
     "name": "#%%\n"
    }
   },
   "outputs": [],
   "source": [
    "#Preprocess data\n",
    "def process_data(raw_df, standarize, drop_standard, calculations):\n",
    "        #Set index as datetime\n",
    "        raw_df.index = pd.to_datetime(raw_df.index)\n",
    "        #Set label by shifting Closing price by -1\n",
    "        raw_df['Label'] = raw_df['Close'].shift(-1)\n",
    "        #Creating more features\n",
    "        #Log_r\n",
    "        log_r = np.log(raw_df['Close'] / raw_df['Close'].shift(1))\n",
    "        max_roll_window = 0\n",
    "        #Check which calculations should be applied\n",
    "        if 'MA5' in calculations:\n",
    "            raw_df['MA5'] = raw_df['Close'].rolling(5).mean()\n",
    "            max_roll_window = 5\n",
    "        if 'MA20' in calculations:\n",
    "            raw_df['MA20'] = raw_df['Close'].rolling(20).mean()\n",
    "            max_roll_window = 20\n",
    "        if 'MIN' in calculations:\n",
    "            raw_df['MIN'] = raw_df['Close'].rolling(max_roll_window).min()\n",
    "        if 'MAX' in calculations:\n",
    "            raw_df['MAX'] = raw_df['Close'].rolling(max_roll_window).max()\n",
    "        if 'mom' in calculations:\n",
    "            raw_df['mom'] = log_r.rolling(max_roll_window).mean()\n",
    "            print(max_roll_window)\n",
    "        if 'vola' in calculations:\n",
    "            raw_df['vola'] = log_r.rolling(max_roll_window).std()\n",
    "\n",
    "        #Drop non-used columns\n",
    "        if drop_standard:\n",
    "            raw_df = raw_df.drop(['Open', 'High', 'Low', 'Volume', 'Adj Close'], axis = 1)\n",
    "        #Drop NaN values\n",
    "        raw_df = raw_df.dropna()\n",
    "        #Standarizing\n",
    "        if standarize:\n",
    "            raw_df = (raw_df - raw_df.mean())/raw_df.std()\n",
    "        return raw_df"
   ]
  },
  {
   "cell_type": "code",
   "execution_count": 15,
   "metadata": {
    "pycharm": {
     "name": "#%%\n"
    }
   },
   "outputs": [],
   "source": [
    "import math\n",
    "#Split data into train and test sets\n",
    "def split_data(df_input, percent):\n",
    "    # Array splicing and splitting of data\n",
    "    rdf = df_input.to_numpy()\n",
    "\n",
    "    X, y = rdf[:, :-1], rdf[:, -1]\n",
    "\n",
    "    # pct split\n",
    "    limit = math.floor(len(X) * percent)\n",
    "\n",
    "    X_train, X_test = X[:limit,:],X[limit:,:]\n",
    "\n",
    "    y_train, y_test = y[:limit],y[limit:]\n",
    "    print(X_train)\n",
    "    return X_train, X_test, y_train, y_test"
   ]
  },
  {
   "cell_type": "code",
   "execution_count": 16,
   "metadata": {
    "pycharm": {
     "name": "#%%\n"
    }
   },
   "outputs": [],
   "source": [
    "from sklearn.linear_model import LinearRegression\n",
    "def linear_reg(X_train, X_test, y_train, y_test):\n",
    "    model = LinearRegression().fit(X_train, y_train)\n",
    "    model.score(X_test, y_test)\n",
    "    predictions = model.predict(X_test)\n",
    "    print(\"Actual: \", y_test[:3])\n",
    "    print(\"Forecasted: \", predictions[:3])\n",
    "    return predictions"
   ]
  },
  {
   "cell_type": "code",
   "execution_count": 6,
   "metadata": {
    "pycharm": {
     "name": "#%%\n"
    }
   },
   "outputs": [],
   "source": [
    "# MLPRegression\n",
    "## MLP Reg\n",
    "from sklearn.neural_network import MLPRegressor\n",
    "def MLP_reg(X_train, X_test, y_train, y_test, rnd_state, max_it):\n",
    "    regr = MLPRegressor(random_state = rnd_state, max_iter = max_it).fit(X_train, y_train)\n",
    "    print(regr.score(X_train, y_train))\n",
    "    MLPpredictions = regr.predict(X_test)\n",
    "    print(regr.score(X_test, y_test))\n",
    "    return MLPpredictions"
   ]
  },
  {
   "cell_type": "code",
   "execution_count": 23,
   "metadata": {
    "pycharm": {
     "name": "#%%\n"
    }
   },
   "outputs": [],
   "source": [
    "def experiment_1():\n",
    "    # Get stock data of Microsoft from 1990-01-01 to 2021-05-05\n",
    "    # Multile tickers\n",
    "    ##tickerList = ['MSFT', 'AAPL']\n",
    "    start = datetime(1990,1,1)\n",
    "    end = datetime(2021,5,5)\n",
    "    tickerList = 'MSFT'\n",
    "    df = get_data_from_api(tickerList, start, end)\n",
    "    print(df.head())\n",
    "    \n",
    "    #Process data\n",
    "    #raw_df, standarize, drop_standard, calculations\n",
    "    df_mod = process_data(df, False, True, [])\n",
    "    df_mod.tail(5)\n",
    "    df_mod['MA5'] = df_mod['Close'].rolling(5).mean()\n",
    "    max_roll_window = 5\n",
    "\n",
    "    #Split data into train and test sets\n",
    "    df_splitted = split_data(df_mod, 0.8)\n",
    "\n",
    "    #Do linear regression\n",
    "    linear_predictions = linear_reg(df_splitted[0], df_splitted[1], df_splitted[2], df_splitted[3])\n",
    "    print(\"linear_predictions\")\n",
    "    print(linear_predictions)\n",
    "    \n",
    "    #MLPRegression\n",
    "    rnd_state = 1\n",
    "    max_it = 500\n",
    "    MLP_predictions = MLP_reg(df_splitted[0], df_splitted[1], df_splitted[2], df_splitted[3], rnd_state, max_it)\n",
    "    print(\"MLP_predictions\")\n",
    "    print(MLP_predictions)\n",
    "\n",
    "    ##Visualize the predictions\n",
    "    #Visualize to understand the model behaviour\n",
    "    plt.figure(figsize = (15,8), dpi = 80)\n",
    "    df_pred = pd.DataFrame(data = MLP_predictions, columns = [\"Predictions\"])\n",
    "    df_pred[\"actual\"] = df_splitted[3].tolist()\n",
    "    df_pred[\"linear\"] = linear_predictions.tolist()\n",
    "    df_pred.plot()\n",
    "    plt.show()"
   ]
  },
  {
   "cell_type": "code",
   "execution_count": 24,
   "metadata": {
    "pycharm": {
     "name": "#%%\n"
    }
   },
   "outputs": [
    {
     "name": "stdout",
     "output_type": "stream",
     "text": [
      "                High       Low      Open     Close       Volume  Adj Close\n",
      "Date                                                                      \n",
      "1990-01-02  0.616319  0.598090  0.605903  0.616319   53035200.0   0.391455\n",
      "1990-01-03  0.626736  0.614583  0.621528  0.619792  113774400.0   0.393661\n",
      "1990-01-04  0.638889  0.616319  0.619792  0.638021  125740800.0   0.405239\n",
      "1990-01-05  0.638889  0.621528  0.635417  0.622396   69566400.0   0.395315\n",
      "1990-01-08  0.631944  0.614583  0.621528  0.631944   58982400.0   0.401380\n"
     ]
    },
    {
     "ename": "NameError",
     "evalue": "name 'MA5' is not defined",
     "output_type": "error",
     "traceback": [
      "\u001b[0;31m---------------------------------------------------------------------------\u001b[0m",
      "\u001b[0;31mNameError\u001b[0m                                 Traceback (most recent call last)",
      "\u001b[0;32m<ipython-input-24-1489582ca8df>\u001b[0m in \u001b[0;36m<module>\u001b[0;34m\u001b[0m\n\u001b[1;32m      1\u001b[0m \u001b[0;31m#Linear and Regression without standarizing the values\u001b[0m\u001b[0;34m\u001b[0m\u001b[0;34m\u001b[0m\u001b[0;34m\u001b[0m\u001b[0m\n\u001b[0;32m----> 2\u001b[0;31m \u001b[0mexperiment_1\u001b[0m\u001b[0;34m(\u001b[0m\u001b[0;34m)\u001b[0m\u001b[0;34m\u001b[0m\u001b[0;34m\u001b[0m\u001b[0m\n\u001b[0m",
      "\u001b[0;32m<ipython-input-23-1a98add7d980>\u001b[0m in \u001b[0;36mexperiment_1\u001b[0;34m()\u001b[0m\n\u001b[1;32m     22\u001b[0m     \u001b[0mstyle\u001b[0m\u001b[0;34m.\u001b[0m\u001b[0muse\u001b[0m\u001b[0;34m(\u001b[0m\u001b[0;34m'ggplot'\u001b[0m\u001b[0;34m)\u001b[0m\u001b[0;34m\u001b[0m\u001b[0;34m\u001b[0m\u001b[0m\n\u001b[1;32m     23\u001b[0m     \u001b[0mdf_mod\u001b[0m\u001b[0;34m.\u001b[0m\u001b[0mplot\u001b[0m\u001b[0;34m(\u001b[0m\u001b[0mlabel\u001b[0m \u001b[0;34m=\u001b[0m \u001b[0;34m'MSFT'\u001b[0m\u001b[0;34m)\u001b[0m\u001b[0;34m\u001b[0m\u001b[0;34m\u001b[0m\u001b[0m\n\u001b[0;32m---> 24\u001b[0;31m     \u001b[0mMA5\u001b[0m\u001b[0;34m.\u001b[0m\u001b[0mplot\u001b[0m\u001b[0;34m(\u001b[0m\u001b[0mlabel\u001b[0m \u001b[0;34m=\u001b[0m \u001b[0;34m'MA5'\u001b[0m\u001b[0;34m)\u001b[0m\u001b[0;34m\u001b[0m\u001b[0;34m\u001b[0m\u001b[0m\n\u001b[0m\u001b[1;32m     25\u001b[0m     \u001b[0mplt\u001b[0m\u001b[0;34m.\u001b[0m\u001b[0mlegend\u001b[0m\u001b[0;34m(\u001b[0m\u001b[0;34m)\u001b[0m\u001b[0;34m\u001b[0m\u001b[0;34m\u001b[0m\u001b[0m\n\u001b[1;32m     26\u001b[0m \u001b[0;34m\u001b[0m\u001b[0m\n",
      "\u001b[0;31mNameError\u001b[0m: name 'MA5' is not defined"
     ]
    },
    {
     "data": {
      "text/plain": [
       "<Figure size 1200x640 with 0 Axes>"
      ]
     },
     "metadata": {},
     "output_type": "display_data"
    },
    {
     "data": {
      "image/png": "[encoded data removed]",
      "text/plain": [
       "<Figure size 432x288 with 1 Axes>"
      ]
     },
     "metadata": {},
     "output_type": "display_data"
    }
   ],
   "source": [
    "#Linear and Regression without standarizing the values\n",
    "experiment_1()"
   ]
  },
  {
   "cell_type": "code",
   "execution_count": 81,
   "metadata": {
    "pycharm": {
     "name": "#%%\n"
    }
   },
   "outputs": [],
   "source": [
    "def experiment_2():\n",
    "    # Get stock data of Microsoft from 1990-01-01 to 2021-05-05\n",
    "    # Multile tickers\n",
    "    ##tickerList = ['MSFT', 'AAPL']\n",
    "    start = datetime(1990,1,1)\n",
    "    end = datetime(2021,5,5)\n",
    "    tickerList = 'MSFT'\n",
    "    df = get_data_from_api(tickerList, start, end)\n",
    "\n",
    "    #Process data\n",
    "    #raw_df, standarize, drop_standard, calculations\n",
    "    df_mod = process_data(df, True, True, [])\n",
    "    df_mod.tail(5)\n",
    "\n",
    "    #Split data into train and test sets\n",
    "    df_splitted = split_data(df_mod, 0.8)\n",
    "\n",
    "    #Do linear regression\n",
    "    linear_predictions = linear_reg(df_splitted[0], df_splitted[1], df_splitted[2], df_splitted[3] )\n",
    "    print(\"linear_predictions\")\n",
    "    print(linear_predictions)\n",
    "    \n",
    "    #MLPRegression\n",
    "    rnd_state = 1\n",
    "    max_it = 500\n",
    "    MLP_predictions = MLP_reg(df_splitted[0], df_splitted[1], df_splitted[2], df_splitted[3], rnd_state, max_it)\n",
    "    print(\"MLP_predictions\")\n",
    "    print(MLP_predictions)\n",
    "\n",
    "    ##Visualize the predictions\n",
    "    #Visualize to understand the model behaviour\n",
    "    plt.figure(figsize = (15,8), dpi = 80)\n",
    "    df_pred = pd.DataFrame(data = MLP_predictions, columns = [\"Predictions\"])\n",
    "    df_pred[\"actual\"] = df_splitted[3].tolist()\n",
    "    df_pred[\"linear\"] = linear_predictions.tolist()\n",
    "    df_pred.plot()\n",
    "    plt.show()"
   ]
  },
  {
   "cell_type": "code",
   "execution_count": 82,
   "metadata": {
    "pycharm": {
     "name": "#%%\n"
    }
   },
   "outputs": [
    {
     "name": "stdout",
     "output_type": "stream",
     "text": [
      "[[-0.85513624]\n",
      " [-0.85505901]\n",
      " [-0.85465366]\n",
      " ...\n",
      " [ 0.15226693]\n",
      " [ 0.17917337]\n",
      " [ 0.18028518]]\n",
      "Actual:  [0.07898039 0.04633488 0.06454528]\n",
      "Forecasted:  [0.17534276 0.07880894 0.04618713]\n",
      "linear_predictions\n",
      "[0.17534276 0.07880894 0.04618713 ... 4.7284117  4.72131054 4.63099019]\n",
      "0.9983694910730384\n",
      "0.8085780230637265\n",
      "MLP_predictions\n",
      "[0.17481136 0.08155363 0.04804226 ... 3.16681478 3.16266464 3.10987857]\n"
     ]
    },
    {
     "data": {
      "text/plain": [
       "<Figure size 1200x640 with 0 Axes>"
      ]
     },
     "metadata": {},
     "output_type": "display_data"
    },
    {
     "data": {
      "image/png": "[encoded data removed]",
      "text/plain": [
       "<Figure size 432x288 with 1 Axes>"
      ]
     },
     "metadata": {
      "needs_background": "light"
     },
     "output_type": "display_data"
    }
   ],
   "source": [
    "#Linear and MLP with standarized input\n",
    "experiment_2()"
   ]
  },
  {
   "cell_type": "code",
   "execution_count": 87,
   "metadata": {
    "pycharm": {
     "name": "#%%\n"
    }
   },
   "outputs": [],
   "source": [
    "def experiment_3():\n",
    "    # Get stock data about Microsoft from 1990-01-01 to 2021-05-05\n",
    "    # Multile tickers\n",
    "    ##tickerList = ['MSFT', 'AAPL']\n",
    "    start = datetime(1990,1,1)\n",
    "    end = datetime(2021,5,5)\n",
    "    tickerList = 'MSFT'\n",
    "    df = get_data_from_api(tickerList, start, end)\n",
    "\n",
    "    #Process data\n",
    "    #raw_df, standarize, drop_standard, calculations\n",
    "    df_mod = process_data(df, True, True, ['MA5', 'MA20', 'MIN', 'MAX'])\n",
    "    df_mod.tail(5)\n",
    "\n",
    "    #Split data into train and test sets\n",
    "    df_splitted = split_data(df_mod, 0.8)\n",
    "\n",
    "    #Do linear regression\n",
    "    linear_predictions = linear_reg(df_splitted[0], df_splitted[1], df_splitted[2], df_splitted[3] )\n",
    "    print(\"linear_predictions\")\n",
    "    print(linear_predictions)\n",
    "    \n",
    "    #MLPRegression\n",
    "    rnd_state = 1\n",
    "    max_it = 500\n",
    "    MLP_predictions = MLP_reg(df_splitted[0], df_splitted[1], df_splitted[2], df_splitted[3], rnd_state, max_it)\n",
    "    print(\"MLP_predictions\")\n",
    "    print(MLP_predictions)\n",
    "\n",
    "    ##Visualize the predictions\n",
    "    #Visualize to understand the model behaviour\n",
    "    plt.figure(figsize = (15,8), dpi = 80)\n",
    "    df_pred = pd.DataFrame(data = MLP_predictions, columns = [\"Predictions\"])\n",
    "    df_pred[\"actual\"] = df_splitted[3].tolist()\n",
    "    df_pred[\"linear\"] = linear_predictions.tolist()\n",
    "    df_pred.plot()\n",
    "    plt.show()"
   ]
  },
  {
   "cell_type": "code",
   "execution_count": 88,
   "metadata": {
    "pycharm": {
     "name": "#%%\n"
    }
   },
   "outputs": [
    {
     "name": "stdout",
     "output_type": "stream",
     "text": [
      "[[-0.85649777 -0.85611673 -0.85820694 -0.86238514 -0.85998568]\n",
      " [-0.85653636 -0.85592403 -0.85827062 -0.86236556 -0.85998568]\n",
      " [-0.8563434  -0.85573131 -0.85823186 -0.8623401  -0.85998568]\n",
      " ...\n",
      " [ 0.0776881   0.04425937  0.15643272  0.1696859   0.13302212]\n",
      " [ 0.04501069  0.06246388  0.14032462  0.16262583  0.09831798]\n",
      " [ 0.06323888  0.02672093  0.12635365  0.15697553  0.09831798]]\n",
      "Actual:  [0.15001834 0.15001834 0.15001834]\n",
      "Forecasted:  [0.18237296 0.18392884 0.18291356]\n",
      "linear_predictions\n",
      "[0.18237296 0.18392884 0.18291356 ... 4.82809251 4.83574413 4.82408977]\n",
      "0.9952570794869241\n",
      "0.9946611448198313\n",
      "MLP_predictions\n",
      "[0.13971325 0.13536823 0.12782086 ... 4.92926751 4.93088788 4.90104654]\n"
     ]
    },
    {
     "data": {
      "text/plain": [
       "<Figure size 1200x640 with 0 Axes>"
      ]
     },
     "metadata": {},
     "output_type": "display_data"
    },
    {
     "data": {
      "image/png": "[encoded data removed]",
      "text/plain": [
       "<Figure size 432x288 with 1 Axes>"
      ]
     },
     "metadata": {
      "needs_background": "light"
     },
     "output_type": "display_data"
    }
   ],
   "source": [
    "experiment_3()"
   ]
  },
  {
   "cell_type": "code",
   "execution_count": 42,
   "metadata": {},
   "outputs": [
    {
     "name": "stdout",
     "output_type": "stream",
     "text": [
      "Very nice!\n"
     ]
    }
   ],
   "source": [
    "print(\"Very nice!\")"
   ]
  },
  {
   "cell_type": "code",
   "execution_count": null,
   "metadata": {
    "pycharm": {
     "name": "#%%\n"
    }
   },
   "outputs": [],
   "source": []
  }
 ],
 "metadata": {
  "kernelspec": {
   "display_name": "Python 3",
   "language": "python",
   "name": "python3"
  },
  "language_info": {
   "codemirror_mode": {
    "name": "ipython",
    "version": 3
   },
   "file_extension": ".py",
   "mimetype": "text/x-python",
   "name": "python",
   "nbconvert_exporter": "python",
   "pygments_lexer": "ipython3",
   "version": "3.8.5"
  }
 },
 "nbformat": 4,
 "nbformat_minor": 1
}
