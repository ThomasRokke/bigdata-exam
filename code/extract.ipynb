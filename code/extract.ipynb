{
 "cells": [
  {
   "cell_type": "code",
   "execution_count": 46,
   "metadata": {},
   "outputs": [],
   "source": [
    "#import necessary packages\n",
    "from datetime import datetime\n",
    "#import it in console with: pip install pandas-datareader\n",
    "import pandas_datareader.data as wb\n",
    "import pandas as pd\n",
    "import matplotlib\n",
    "import matplotlib.pyplot as plt\n",
    "import numpy as np\n",
    "from matplotlib import style"
   ]
  },
  {
   "cell_type": "code",
   "execution_count": 47,
   "metadata": {
    "pycharm": {
     "name": "#%%\n"
    }
   },
   "outputs": [],
   "source": [
    "# Input\n",
    "# ticker: list of chosen stock\n",
    "# start_date: start date of search in YYYY-M-D format\n",
    "# end_date: end date of search in YYYY-M-D format\n",
    "# Output Pandas dataframe with finance data from Yahoo\n",
    "def get_data_from_api(ticker, start_date, end_date):\n",
    "    dataframe = wb.DataReader(ticker, 'yahoo', start_date, end_date)\n",
    "    return dataframe"
   ]
  },
  {
   "cell_type": "code",
   "execution_count": 55,
   "metadata": {
    "pycharm": {
     "name": "#%%\n"
    }
   },
   "outputs": [],
   "source": [
    "#Preprocess data\n",
    "def process_data(raw_df, standarize, drop_standard, calculations):\n",
    "        #Set index as datetime\n",
    "        raw_df.index = pd.to_datetime(raw_df.index)\n",
    "        #Set label by shifting Closing price by -1\n",
    "        raw_df['Label'] = raw_df['Close'].shift(-1)\n",
    "        #Creating more features\n",
    "        #Log_r\n",
    "        log_r = np.log(raw_df['Close'] / raw_df['Close'].shift(1))\n",
    "        max_roll_window = 0\n",
    "        #Check which calculations should be applied\n",
    "        if 'MA5' in calculations:\n",
    "            raw_df['MA5'] = raw_df['Close'].rolling(5).mean()\n",
    "            max_roll_window = 5\n",
    "        if 'MA20' in calculations:\n",
    "            raw_df['MA20'] = raw_df['Close'].rolling(20).mean()\n",
    "            max_roll_window = 20\n",
    "        if 'MIN' in calculations:\n",
    "            raw_df['MIN'] = raw_df['Close'].rolling(max_roll_window).min()\n",
    "        if 'MAX' in calculations:\n",
    "            raw_df['MAX'] = raw_df['Close'].rolling(max_roll_window).max()\n",
    "        if 'mom' in calculations:\n",
    "            raw_df['mom'] = log_r.rolling(max_roll_window).mean()\n",
    "            print(max_roll_window)\n",
    "        if 'vola' in calculations:\n",
    "            raw_df['vola'] = log_r.rolling(max_roll_window).std()\n",
    "\n",
    "        #Drop non-used columns\n",
    "        if drop_standard:\n",
    "            raw_df = raw_df.drop(['Open', 'High', 'Low', 'Volume', 'Adj Close'], axis = 1)\n",
    "        #Drop NaN values\n",
    "        raw_df = raw_df.dropna()\n",
    "        #Standarizing\n",
    "        if standarize:\n",
    "            raw_df = (raw_df - raw_df.mean())/raw_df.std()\n",
    "        return raw_df"
   ]
  },
  {
   "cell_type": "code",
   "execution_count": 56,
   "metadata": {
    "pycharm": {
     "name": "#%%\n"
    }
   },
   "outputs": [],
   "source": [
    "import math\n",
    "#Split data into train and test sets\n",
    "def split_data(df_input, percent):\n",
    "    # Array splicing and splitting of data\n",
    "    rdf = df_input.to_numpy()\n",
    "\n",
    "    X, y = rdf[:, :-1], rdf[:, -1]\n",
    "\n",
    "    # pct split\n",
    "    limit = math.floor(len(X) * percent)\n",
    "\n",
    "    X_train, X_test = X[:limit,:],X[limit:,:]\n",
    "\n",
    "    y_train, y_test = y[:limit],y[limit:]\n",
    "    print(X_train)\n",
    "    return X_train, X_test, y_train, y_test"
   ]
  },
  {
   "cell_type": "code",
   "execution_count": 57,
   "metadata": {
    "pycharm": {
     "name": "#%%\n"
    }
   },
   "outputs": [],
   "source": [
    "from sklearn.linear_model import LinearRegression\n",
    "def linear_reg(X_train, X_test, y_train, y_test):\n",
    "    model = LinearRegression().fit(X_train, y_train)\n",
    "    model.score(X_test, y_test)\n",
    "    predictions = model.predict(X_test)\n",
    "    print(\"Actual: \", y_test[:3])\n",
    "    print(\"Forecasted: \", predictions[:3])\n",
    "    return predictions"
   ]
  },
  {
   "cell_type": "code",
   "execution_count": 58,
   "metadata": {
    "pycharm": {
     "name": "#%%\n"
    }
   },
   "outputs": [],
   "source": [
    "# MLPRegression\n",
    "## MLP Reg\n",
    "from sklearn.neural_network import MLPRegressor\n",
    "def MLP_reg(X_train, X_test, y_train, y_test, rnd_state, max_it):\n",
    "    regr = MLPRegressor(random_state = rnd_state, max_iter = max_it).fit(X_train, y_train)\n",
    "    print(regr.score(X_train, y_train))\n",
    "    MLPpredictions = regr.predict(X_test)\n",
    "    print(regr.score(X_test, y_test))\n",
    "    return MLPpredictions"
   ]
  },
  {
   "cell_type": "code",
   "execution_count": 67,
   "metadata": {
    "pycharm": {
     "name": "#%%\n"
    }
   },
   "outputs": [],
   "source": [
    "def experiment_1():\n",
    "    # Get stock data of Microsoft from 1990-01-01 to 2021-05-05\n",
    "    # Multile tickers\n",
    "    ##tickerList = ['MSFT', 'AAPL']\n",
    "    start = datetime(1990,1,1)\n",
    "    end = datetime(2021,5,5)\n",
    "    tickerList = 'MSFT'\n",
    "    df = get_data_from_api(tickerList, start, end)\n",
    "    print(df.head())\n",
    "    \n",
    "    #Process data\n",
    "    #raw_df, standarize, drop_standard, calculations\n",
    "    df_mod = process_data(df, False, True, ['MA5'])\n",
    "\n",
    "\n",
    "    #Split data into train and test sets\n",
    "    df_splitted = split_data(df_mod, 0.8)\n",
    "    print(\"splitted\")\n",
    "    print(df_splitted)\n",
    "    #Do linear regression\n",
    "    linear_predictions = linear_reg(df_splitted[0], df_splitted[1], df_splitted[2], df_splitted[3])\n",
    "    print(\"linear_predictions\")\n",
    "    print(linear_predictions)\n",
    "    \n",
    "    #MLPRegression\n",
    "    rnd_state = 1\n",
    "    max_it = 500\n",
    "    MLP_predictions = MLP_reg(df_splitted[0], df_splitted[1], df_splitted[2], df_splitted[3], rnd_state, max_it)\n",
    "    print(\"MLP_predictions\")\n",
    "    print(MLP_predictions)\n",
    "\n",
    "    ##Visualize the predictions\n",
    "    #Visualize to understand the model behaviour\n",
    "    plt.figure(figsize = (15,8), dpi = 80)\n",
    "    df_pred = pd.DataFrame(data = MLP_predictions, columns = [\"Predictions\"])\n",
    "    df_pred[\"actual\"] = df_splitted[3].tolist()\n",
    "    df_pred[\"linear\"] = linear_predictions.tolist()\n",
    "    df_pred.plot()\n",
    "    plt.show()"
   ]
  },
  {
   "cell_type": "code",
   "execution_count": 68,
   "metadata": {
    "pycharm": {
     "name": "#%%\n"
    }
   },
   "outputs": [
    {
     "name": "stdout",
     "output_type": "stream",
     "text": [
      "                High       Low      Open     Close       Volume  Adj Close\n",
      "Date                                                                      \n",
      "1990-01-02  0.616319  0.598090  0.605903  0.616319   53035200.0   0.391455\n",
      "1990-01-03  0.626736  0.614583  0.621528  0.619792  113774400.0   0.393661\n",
      "1990-01-04  0.638889  0.616319  0.619792  0.638021  125740800.0   0.405239\n",
      "1990-01-05  0.638889  0.621528  0.635417  0.622396   69566400.0   0.395315\n",
      "1990-01-08  0.631944  0.614583  0.621528  0.631944   58982400.0   0.401380\n",
      "[[ 0.631944    0.63020802]\n",
      " [ 0.63020802  0.61284697]\n",
      " [ 0.61284697  0.600694  ]\n",
      " ...\n",
      " [47.13000107 47.18000031]\n",
      " [47.18000031 47.00999832]\n",
      " [47.00999832 42.65999985]]\n",
      "splitted\n",
      "(array([[ 0.631944  ,  0.63020802],\n",
      "       [ 0.63020802,  0.61284697],\n",
      "       [ 0.61284697,  0.600694  ],\n",
      "       ...,\n",
      "       [47.13000107, 47.18000031],\n",
      "       [47.18000031, 47.00999832],\n",
      "       [47.00999832, 42.65999985]]), array([[ 42.65999985,  41.18999863],\n",
      "       [ 41.18999863,  42.00999832],\n",
      "       [ 42.00999832,  40.40000153],\n",
      "       ...,\n",
      "       [252.17999268, 251.86000061],\n",
      "       [251.86000061, 247.78999329],\n",
      "       [247.78999329, 246.47000122]]), array([ 0.62569439,  0.6284722 ,  0.62708319, ..., 46.23199997,\n",
      "       46.57200012, 46.72599945]), array([ 45.97999954,  45.03399963,  44.00999908, ..., 256.55399475,\n",
      "       254.61599731, 251.77999573]))\n",
      "Actual:  [45.97999954 45.03399963 44.00999908]\n",
      "Forecasted:  [42.55714489 41.17222217 41.90318781]\n",
      "linear_predictions\n",
      "[ 42.55714489  41.17222217  41.90318781 ... 251.76588841 251.31116646\n",
      " 247.34720821]\n",
      "0.9981458448327385\n",
      "0.998625115333244\n",
      "MLP_predictions\n",
      "[ 42.40108146  41.14402467  41.7439737  ... 250.34798086 249.67588953\n",
      " 245.90519936]\n"
     ]
    },
    {
     "data": {
      "text/plain": "<Figure size 1200x640 with 0 Axes>"
     },
     "metadata": {},
     "output_type": "display_data"
    },
    {
     "data": {
      "text/plain": "<Figure size 432x288 with 1 Axes>",
      "image/png": "[encoded data removed]"
     },
     "metadata": {
      "needs_background": "light"
     },
     "output_type": "display_data"
    }
   ],
   "source": [
    "#Linear and Regression without standarizing the values\n",
    "experiment_1()"
   ]
  },
  {
   "cell_type": "code",
   "execution_count": null,
   "metadata": {
    "pycharm": {
     "name": "#%%\n"
    }
   },
   "outputs": [],
   "source": [
    "def experiment_2():\n",
    "    # Get stock data of Microsoft from 1990-01-01 to 2021-05-05\n",
    "    # Multile tickers\n",
    "    ##tickerList = ['MSFT', 'AAPL']\n",
    "    start = datetime(1990,1,1)\n",
    "    end = datetime(2021,5,5)\n",
    "    tickerList = 'MSFT'\n",
    "    df = get_data_from_api(tickerList, start, end)\n",
    "\n",
    "    #Process data\n",
    "    #raw_df, standarize, drop_standard, calculations\n",
    "    df_mod = process_data(df, True, True, [])\n",
    "    df_mod.tail(5)\n",
    "\n",
    "    #Split data into train and test sets\n",
    "    df_splitted = split_data(df_mod, 0.8)\n",
    "\n",
    "    #Do linear regression\n",
    "    linear_predictions = linear_reg(df_splitted[0], df_splitted[1], df_splitted[2], df_splitted[3] )\n",
    "    print(\"linear_predictions\")\n",
    "    print(linear_predictions)\n",
    "    \n",
    "    #MLPRegression\n",
    "    rnd_state = 1\n",
    "    max_it = 500\n",
    "    MLP_predictions = MLP_reg(df_splitted[0], df_splitted[1], df_splitted[2], df_splitted[3], rnd_state, max_it)\n",
    "    print(\"MLP_predictions\")\n",
    "    print(MLP_predictions)\n",
    "\n",
    "    ##Visualize the predictions\n",
    "    #Visualize to understand the model behaviour\n",
    "    plt.figure(figsize = (15,8), dpi = 80)\n",
    "    df_pred = pd.DataFrame(data = MLP_predictions, columns = [\"Predictions\"])\n",
    "    df_pred[\"actual\"] = df_splitted[3].tolist()\n",
    "    df_pred[\"linear\"] = linear_predictions.tolist()\n",
    "    df_pred.plot()\n",
    "    plt.show()"
   ]
  },
  {
   "cell_type": "code",
   "execution_count": 54,
   "metadata": {
    "pycharm": {
     "name": "#%%\n"
    }
   },
   "outputs": [
    {
     "name": "stdout",
     "output_type": "stream",
     "text": [
      "[[-0.85513624]\n",
      " [-0.85505901]\n",
      " [-0.85465366]\n",
      " ...\n",
      " [ 0.15226693]\n",
      " [ 0.17917337]\n",
      " [ 0.18028518]]\n",
      "Actual:  [0.07898039 0.04633488 0.06454528]\n",
      "Forecasted:  [0.17534276 0.07880894 0.04618713]\n",
      "linear_predictions\n",
      "[0.17534276 0.07880894 0.04618713 ... 4.7284117  4.72131054 4.63099019]\n",
      "0.9983694910730384\n",
      "0.8085780230637265\n",
      "MLP_predictions\n",
      "[0.17481136 0.08155363 0.04804226 ... 3.16681478 3.16266464 3.10987857]\n"
     ]
    },
    {
     "data": {
      "text/plain": "<Figure size 1200x640 with 0 Axes>"
     },
     "metadata": {},
     "output_type": "display_data"
    },
    {
     "data": {
      "text/plain": "<Figure size 432x288 with 1 Axes>",
      "image/png": "[encoded data removed]"
     },
     "metadata": {
      "needs_background": "light"
     },
     "output_type": "display_data"
    }
   ],
   "source": [
    "#Linear and MLP with standarized input\n",
    "experiment_2()"
   ]
  },
  {
   "cell_type": "code",
   "execution_count": null,
   "metadata": {
    "pycharm": {
     "name": "#%%\n"
    }
   },
   "outputs": [],
   "source": [
    "def experiment_3():\n",
    "    # Get stock data about Microsoft from 1990-01-01 to 2021-05-05\n",
    "    # Multile tickers\n",
    "    ##tickerList = ['MSFT', 'AAPL']\n",
    "    start = datetime(1990,1,1)\n",
    "    end = datetime(2021,5,5)\n",
    "    tickerList = 'MSFT'\n",
    "    df = get_data_from_api(tickerList, start, end)\n",
    "\n",
    "    #Process data\n",
    "    #raw_df, standarize, drop_standard, calculations\n",
    "    df_mod = process_data(df, True, True, ['MA5', 'MA20', 'MIN', 'MAX'])\n",
    "    df_mod.tail(5)\n",
    "\n",
    "    #Split data into train and test sets\n",
    "    df_splitted = split_data(df_mod, 0.8)\n",
    "\n",
    "    #Do linear regression\n",
    "    linear_predictions = linear_reg(df_splitted[0], df_splitted[1], df_splitted[2], df_splitted[3] )\n",
    "    print(\"linear_predictions\")\n",
    "    print(linear_predictions)\n",
    "    \n",
    "    #MLPRegression\n",
    "    rnd_state = 1\n",
    "    max_it = 500\n",
    "    MLP_predictions = MLP_reg(df_splitted[0], df_splitted[1], df_splitted[2], df_splitted[3], rnd_state, max_it)\n",
    "    print(\"MLP_predictions\")\n",
    "    print(MLP_predictions)\n",
    "\n",
    "    ##Visualize the predictions\n",
    "    #Visualize to understand the model behaviour\n",
    "    plt.figure(figsize = (15,8), dpi = 80)\n",
    "    df_pred = pd.DataFrame(data = MLP_predictions, columns = [\"Predictions\"])\n",
    "    df_pred[\"actual\"] = df_splitted[3].tolist()\n",
    "    df_pred[\"linear\"] = linear_predictions.tolist()\n",
    "    df_pred.plot()\n",
    "    plt.show()"
   ]
  },
  {
   "cell_type": "code",
   "execution_count": null,
   "metadata": {
    "pycharm": {
     "name": "#%%\n"
    }
   },
   "outputs": [],
   "source": [
    "experiment_3()"
   ]
  },
  {
   "cell_type": "code",
   "execution_count": null,
   "outputs": [],
   "source": [],
   "metadata": {
    "collapsed": false,
    "pycharm": {
     "name": "#%%\n"
    }
   }
  }
 ],
 "metadata": {
  "kernelspec": {
   "display_name": "Python 3",
   "language": "python",
   "name": "python3"
  },
  "language_info": {
   "codemirror_mode": {
    "name": "ipython",
    "version": 3
   },
   "file_extension": ".py",
   "mimetype": "text/x-python",
   "name": "python",
   "nbconvert_exporter": "python",
   "pygments_lexer": "ipython3",
   "version": "3.8.5"
  }
 },
 "nbformat": 4,
 "nbformat_minor": 1
}